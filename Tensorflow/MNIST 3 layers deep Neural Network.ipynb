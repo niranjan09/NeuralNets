{
 "cells": [
  {
   "cell_type": "code",
   "execution_count": 27,
   "metadata": {
    "collapsed": true
   },
   "outputs": [],
   "source": [
    "import tensorflow as tf\n",
    "from tensorflow.examples.tutorials.mnist import input_data\n",
    "import matplotlib.pyplot as plt"
   ]
  },
  {
   "cell_type": "code",
   "execution_count": 28,
   "metadata": {
    "collapsed": false
   },
   "outputs": [
    {
     "name": "stdout",
     "output_type": "stream",
     "text": [
      "Extracting /tmp/data/train-images-idx3-ubyte.gz\n",
      "Extracting /tmp/data/train-labels-idx1-ubyte.gz\n",
      "Extracting /tmp/data/t10k-images-idx3-ubyte.gz\n",
      "Extracting /tmp/data/t10k-labels-idx1-ubyte.gz\n"
     ]
    }
   ],
   "source": [
    "#Loading the mnist data set into mnist_data variable\n",
    "mnist_data = input_data.read_data_sets(\"/tmp/data\", one_hot=True)"
   ]
  },
  {
   "cell_type": "code",
   "execution_count": 53,
   "metadata": {
    "collapsed": true
   },
   "outputs": [],
   "source": [
    "#hyperparameters/NN-properties\n",
    "learning_rate = 0.1\n",
    "batch_size = 128\n",
    "no_of_epochs = 20000\n",
    "HL1 = 784\n",
    "HL2 = 128\n",
    "HL3 = 128\n",
    "input_size = 784\n",
    "output_size = 10"
   ]
  },
  {
   "cell_type": "code",
   "execution_count": 54,
   "metadata": {
    "collapsed": false
   },
   "outputs": [],
   "source": [
    "#loading the input and output variables\n",
    "x = tf.placeholder(\"float\", [None, input_size], \"Input\")\n",
    "y = tf.placeholder(\"float\", [None, output_size], \"Output\")"
   ]
  },
  {
   "cell_type": "code",
   "execution_count": 55,
   "metadata": {
    "collapsed": false
   },
   "outputs": [],
   "source": [
    "#define NN related variables:\n",
    "w1 = tf.Variable(tf.random_normal([input_size, HL1]))\n",
    "w2 = tf.Variable(tf.random_normal([HL1, HL2]))\n",
    "w3 = tf.Variable(tf.random_normal([HL2, HL3]))\n",
    "w4 = tf.Variable(tf.random_normal([HL3, output_size]))\n",
    "\n",
    "b1 = tf.Variable(tf.random_normal([HL1]))\n",
    "b2 = tf.Variable(tf.random_normal([HL2]))\n",
    "b3 = tf.Variable(tf.random_normal([HL3]))\n",
    "b4 = tf.Variable(tf.random_normal([output_size]))"
   ]
  },
  {
   "cell_type": "markdown",
   "metadata": {},
   "source": [
    "***Model Construction:***"
   ]
  },
  {
   "cell_type": "code",
   "execution_count": 56,
   "metadata": {
    "collapsed": false
   },
   "outputs": [],
   "source": [
    "#fully connected layer which connects input with HL1\n",
    "a1 = tf.matmul(x, w1) + b1\n",
    "#fully connected layer which connects HL1 with HL2\n",
    "a2 = tf.matmul(a1, w2) + b2\n",
    "#fully connected layer which connects HL2 with HL3\n",
    "a3 = tf.add(tf.matmul(a2, w3), b3)\n",
    "#fully connected layer which connects HL3 with output\n",
    "y_predicted = tf.add(tf.matmul(a3, w4), b4)"
   ]
  },
  {
   "cell_type": "markdown",
   "metadata": {},
   "source": [
    "**Loss calculation for the Model:**"
   ]
  },
  {
   "cell_type": "code",
   "execution_count": 57,
   "metadata": {
    "collapsed": false
   },
   "outputs": [],
   "source": [
    "#defining loss function\n",
    "loss = tf.reduce_mean(tf.nn.softmax_cross_entropy_with_logits(logits = y_predicted, labels = y))\n",
    "\n",
    "#define optimizer for the model\n",
    "optimizer = tf.train.AdamOptimizer(learning_rate = learning_rate)\n",
    "training_output = optimizer.minimize(loss)\n",
    "\n",
    "#evaluating model\n",
    "correct_predictions = tf.equal(tf.argmax(y_predicted, 1), tf.argmax(y, 1))\n",
    "accuracy = tf.reduce_mean(tf.cast(correct_predictions, tf.float32))"
   ]
  },
  {
   "cell_type": "markdown",
   "metadata": {},
   "source": [
    "## Intialize variables"
   ]
  },
  {
   "cell_type": "code",
   "execution_count": 58,
   "metadata": {
    "collapsed": false
   },
   "outputs": [],
   "source": [
    "initiated_variables = tf.global_variables_initializer()\n",
    "accuracy_list = []"
   ]
  },
  {
   "cell_type": "markdown",
   "metadata": {},
   "source": [
    "# Training"
   ]
  },
  {
   "cell_type": "code",
   "execution_count": 59,
   "metadata": {
    "collapsed": false
   },
   "outputs": [
    {
     "name": "stdout",
     "output_type": "stream",
     "text": [
      "('Step:', 0, 'Training Loss:', 275839.06, 'Training accuracy:', 0.1953125)\n",
      "('Step:', 1, 'Training Loss:', 391086.97, 'Training accuracy:', 0.328125)\n",
      "('Step:', 100, 'Training Loss:', 4633.5547, 'Training accuracy:', 0.84375)\n",
      "('Step:', 200, 'Training Loss:', 1869.4397, 'Training accuracy:', 0.8515625)\n",
      "('Step:', 300, 'Training Loss:', 1237.5536, 'Training accuracy:', 0.875)\n",
      "('Step:', 400, 'Training Loss:', 1054.5239, 'Training accuracy:', 0.9140625)\n",
      "('Step:', 500, 'Training Loss:', 467.34268, 'Training accuracy:', 0.859375)\n",
      "('Step:', 600, 'Training Loss:', 699.24316, 'Training accuracy:', 0.8359375)\n",
      "('Step:', 700, 'Training Loss:', 499.2543, 'Training accuracy:', 0.90625)\n",
      "('Step:', 800, 'Training Loss:', 180.93491, 'Training accuracy:', 0.90625)\n",
      "('Step:', 900, 'Training Loss:', 261.51712, 'Training accuracy:', 0.90625)\n",
      "('Step:', 1000, 'Training Loss:', 314.33032, 'Training accuracy:', 0.90625)\n",
      "('Step:', 1100, 'Training Loss:', 363.98053, 'Training accuracy:', 0.859375)\n",
      "('Step:', 1200, 'Training Loss:', 329.65134, 'Training accuracy:', 0.890625)\n",
      "('Step:', 1300, 'Training Loss:', 449.24207, 'Training accuracy:', 0.8203125)\n",
      "('Step:', 1400, 'Training Loss:', 328.76105, 'Training accuracy:', 0.8828125)\n",
      "('Step:', 1500, 'Training Loss:', 427.64493, 'Training accuracy:', 0.8515625)\n",
      "('Step:', 1600, 'Training Loss:', 402.18497, 'Training accuracy:', 0.859375)\n",
      "('Step:', 1700, 'Training Loss:', 181.2356, 'Training accuracy:', 0.9296875)\n",
      "('Step:', 1800, 'Training Loss:', 349.79004, 'Training accuracy:', 0.8125)\n",
      "('Step:', 1900, 'Training Loss:', 433.48785, 'Training accuracy:', 0.859375)\n",
      "('Step:', 2000, 'Training Loss:', 444.30414, 'Training accuracy:', 0.84375)\n",
      "('Step:', 2100, 'Training Loss:', 187.11476, 'Training accuracy:', 0.921875)\n",
      "('Step:', 2200, 'Training Loss:', 379.09067, 'Training accuracy:', 0.875)\n",
      "('Step:', 2300, 'Training Loss:', 337.42291, 'Training accuracy:', 0.828125)\n",
      "('Step:', 2400, 'Training Loss:', 185.29343, 'Training accuracy:', 0.90625)\n",
      "('Step:', 2500, 'Training Loss:', 173.70148, 'Training accuracy:', 0.8828125)\n",
      "('Step:', 2600, 'Training Loss:', 376.66492, 'Training accuracy:', 0.8203125)\n",
      "('Step:', 2700, 'Training Loss:', 164.1459, 'Training accuracy:', 0.8671875)\n",
      "('Step:', 2800, 'Training Loss:', 175.82932, 'Training accuracy:', 0.8984375)\n",
      "('Step:', 2900, 'Training Loss:', 141.09468, 'Training accuracy:', 0.8984375)\n",
      "('Step:', 3000, 'Training Loss:', 147.10266, 'Training accuracy:', 0.875)\n",
      "('Step:', 3100, 'Training Loss:', 134.5098, 'Training accuracy:', 0.890625)\n",
      "('Step:', 3200, 'Training Loss:', 91.532875, 'Training accuracy:', 0.8828125)\n",
      "('Step:', 3300, 'Training Loss:', 96.229195, 'Training accuracy:', 0.890625)\n",
      "('Step:', 3400, 'Training Loss:', 46.013992, 'Training accuracy:', 0.9140625)\n",
      "('Step:', 3500, 'Training Loss:', 84.642029, 'Training accuracy:', 0.859375)\n",
      "('Step:', 3600, 'Training Loss:', 63.711239, 'Training accuracy:', 0.8828125)\n",
      "('Step:', 3700, 'Training Loss:', 112.61617, 'Training accuracy:', 0.84375)\n",
      "('Step:', 3800, 'Training Loss:', 54.816193, 'Training accuracy:', 0.90625)\n",
      "('Step:', 3900, 'Training Loss:', 114.61828, 'Training accuracy:', 0.9140625)\n",
      "('Step:', 4000, 'Training Loss:', 70.928162, 'Training accuracy:', 0.8515625)\n",
      "('Step:', 4100, 'Training Loss:', 40.872349, 'Training accuracy:', 0.9140625)\n",
      "('Step:', 4200, 'Training Loss:', 99.107788, 'Training accuracy:', 0.859375)\n",
      "('Step:', 4300, 'Training Loss:', 76.270805, 'Training accuracy:', 0.8671875)\n",
      "('Step:', 4400, 'Training Loss:', 101.01424, 'Training accuracy:', 0.8203125)\n",
      "('Step:', 4500, 'Training Loss:', 59.84082, 'Training accuracy:', 0.890625)\n",
      "('Step:', 4600, 'Training Loss:', 87.178375, 'Training accuracy:', 0.875)\n",
      "('Step:', 4700, 'Training Loss:', 77.961983, 'Training accuracy:', 0.875)\n",
      "('Step:', 4800, 'Training Loss:', 106.77545, 'Training accuracy:', 0.8359375)\n",
      "('Step:', 4900, 'Training Loss:', 194.76471, 'Training accuracy:', 0.84375)\n",
      "('Step:', 5000, 'Training Loss:', 1532259.1, 'Training accuracy:', 0.6875)\n",
      "('Step:', 5100, 'Training Loss:', 131769.19, 'Training accuracy:', 0.8359375)\n",
      "('Step:', 5200, 'Training Loss:', 64488.91, 'Training accuracy:', 0.8984375)\n",
      "('Step:', 5300, 'Training Loss:', 40078.621, 'Training accuracy:', 0.8203125)\n",
      "('Step:', 5400, 'Training Loss:', 11977.096, 'Training accuracy:', 0.90625)\n",
      "('Step:', 5500, 'Training Loss:', 14480.002, 'Training accuracy:', 0.90625)\n",
      "('Step:', 5600, 'Training Loss:', 13454.275, 'Training accuracy:', 0.875)\n",
      "('Step:', 5700, 'Training Loss:', 3658.5012, 'Training accuracy:', 0.9375)\n",
      "('Step:', 5800, 'Training Loss:', 7951.2583, 'Training accuracy:', 0.921875)\n",
      "('Step:', 5900, 'Training Loss:', 5982.1924, 'Training accuracy:', 0.8984375)\n",
      "('Step:', 6000, 'Training Loss:', 4386.7344, 'Training accuracy:', 0.9296875)\n",
      "('Step:', 6100, 'Training Loss:', 3817.3159, 'Training accuracy:', 0.890625)\n",
      "('Step:', 6200, 'Training Loss:', 4912.6836, 'Training accuracy:', 0.8984375)\n",
      "('Step:', 6300, 'Training Loss:', 5081.5645, 'Training accuracy:', 0.90625)\n",
      "('Step:', 6400, 'Training Loss:', 4450.2461, 'Training accuracy:', 0.8671875)\n",
      "('Step:', 6500, 'Training Loss:', 3780.6519, 'Training accuracy:', 0.890625)\n",
      "('Step:', 6600, 'Training Loss:', 5599.6958, 'Training accuracy:', 0.84375)\n",
      "('Step:', 6700, 'Training Loss:', 1989.3356, 'Training accuracy:', 0.921875)\n",
      "('Step:', 6800, 'Training Loss:', 4014.0427, 'Training accuracy:', 0.9140625)\n",
      "('Step:', 6900, 'Training Loss:', 1609.9111, 'Training accuracy:', 0.9453125)\n",
      "('Step:', 7000, 'Training Loss:', 1106.6606, 'Training accuracy:', 0.9375)\n",
      "('Step:', 7100, 'Training Loss:', 3923.9946, 'Training accuracy:', 0.921875)\n",
      "('Step:', 7200, 'Training Loss:', 1745.3901, 'Training accuracy:', 0.953125)\n",
      "('Step:', 7300, 'Training Loss:', 1484.9597, 'Training accuracy:', 0.9296875)\n",
      "('Step:', 7400, 'Training Loss:', 778.24664, 'Training accuracy:', 0.921875)\n",
      "('Step:', 7500, 'Training Loss:', 2164.9775, 'Training accuracy:', 0.90625)\n",
      "('Step:', 7600, 'Training Loss:', 1486.0072, 'Training accuracy:', 0.84375)\n",
      "('Step:', 7700, 'Training Loss:', 1967.5974, 'Training accuracy:', 0.8828125)\n",
      "('Step:', 7800, 'Training Loss:', 1748.3867, 'Training accuracy:', 0.9140625)\n",
      "('Step:', 7900, 'Training Loss:', 440.31454, 'Training accuracy:', 0.96875)\n",
      "('Step:', 8000, 'Training Loss:', 439.58737, 'Training accuracy:', 0.9140625)\n",
      "('Step:', 8100, 'Training Loss:', 1337.6893, 'Training accuracy:', 0.8515625)\n",
      "('Step:', 8200, 'Training Loss:', 978.01782, 'Training accuracy:', 0.875)\n",
      "('Step:', 8300, 'Training Loss:', 807.84247, 'Training accuracy:', 0.8515625)\n",
      "('Step:', 8400, 'Training Loss:', 1020.3787, 'Training accuracy:', 0.875)\n",
      "('Step:', 8500, 'Training Loss:', 1041.2058, 'Training accuracy:', 0.8984375)\n",
      "('Step:', 8600, 'Training Loss:', 1265.0127, 'Training accuracy:', 0.875)\n",
      "('Step:', 8700, 'Training Loss:', 894.07928, 'Training accuracy:', 0.890625)\n",
      "('Step:', 8800, 'Training Loss:', 1774.918, 'Training accuracy:', 0.875)\n",
      "('Step:', 8900, 'Training Loss:', 790.09698, 'Training accuracy:', 0.8984375)\n",
      "('Step:', 9000, 'Training Loss:', 1004.9432, 'Training accuracy:', 0.8515625)\n",
      "('Step:', 9100, 'Training Loss:', 441.87045, 'Training accuracy:', 0.890625)\n",
      "('Step:', 9200, 'Training Loss:', 1097.8522, 'Training accuracy:', 0.859375)\n",
      "('Step:', 9300, 'Training Loss:', 1166.2896, 'Training accuracy:', 0.890625)\n",
      "('Step:', 9400, 'Training Loss:', 807.80225, 'Training accuracy:', 0.8671875)\n",
      "('Step:', 9500, 'Training Loss:', 633.42786, 'Training accuracy:', 0.9375)\n",
      "('Step:', 9600, 'Training Loss:', 1317.8687, 'Training accuracy:', 0.859375)\n",
      "('Step:', 9700, 'Training Loss:', 608.7619, 'Training accuracy:', 0.859375)\n",
      "('Step:', 9800, 'Training Loss:', 2462.9336, 'Training accuracy:', 0.8203125)\n",
      "('Step:', 9900, 'Training Loss:', 1062.7623, 'Training accuracy:', 0.90625)\n",
      "('Step:', 10000, 'Training Loss:', 1190.4558, 'Training accuracy:', 0.859375)\n",
      "('Step:', 10100, 'Training Loss:', 976.16083, 'Training accuracy:', 0.8984375)\n",
      "('Step:', 10200, 'Training Loss:', 2692.0396, 'Training accuracy:', 0.859375)\n",
      "('Step:', 10300, 'Training Loss:', 1732.923, 'Training accuracy:', 0.8515625)\n",
      "('Step:', 10400, 'Training Loss:', 2324.2563, 'Training accuracy:', 0.8671875)\n",
      "('Step:', 10500, 'Training Loss:', 904.12286, 'Training accuracy:', 0.90625)\n",
      "('Step:', 10600, 'Training Loss:', 958.55054, 'Training accuracy:', 0.890625)\n",
      "('Step:', 10700, 'Training Loss:', 1832.5173, 'Training accuracy:', 0.8203125)\n",
      "('Step:', 10800, 'Training Loss:', 2302.314, 'Training accuracy:', 0.84375)\n",
      "('Step:', 10900, 'Training Loss:', 666.33191, 'Training accuracy:', 0.90625)\n",
      "('Step:', 11000, 'Training Loss:', 2003.5222, 'Training accuracy:', 0.8984375)\n",
      "('Step:', 11100, 'Training Loss:', 1444.8982, 'Training accuracy:', 0.8515625)\n",
      "('Step:', 11200, 'Training Loss:', 990.08588, 'Training accuracy:', 0.875)\n",
      "('Step:', 11300, 'Training Loss:', 1701.9658, 'Training accuracy:', 0.8515625)\n",
      "('Step:', 11400, 'Training Loss:', 558.35193, 'Training accuracy:', 0.90625)\n",
      "('Step:', 11500, 'Training Loss:', 657.25037, 'Training accuracy:', 0.8984375)\n",
      "('Step:', 11600, 'Training Loss:', 635.17029, 'Training accuracy:', 0.90625)\n",
      "('Step:', 11700, 'Training Loss:', 785.20947, 'Training accuracy:', 0.8828125)\n",
      "('Step:', 11800, 'Training Loss:', 779.73315, 'Training accuracy:', 0.90625)\n",
      "('Step:', 11900, 'Training Loss:', 662.35663, 'Training accuracy:', 0.90625)\n",
      "('Step:', 12000, 'Training Loss:', 824.96924, 'Training accuracy:', 0.890625)\n",
      "('Step:', 12100, 'Training Loss:', 527.22534, 'Training accuracy:', 0.9140625)\n",
      "('Step:', 12200, 'Training Loss:', 716.85864, 'Training accuracy:', 0.9140625)\n",
      "('Step:', 12300, 'Training Loss:', 675.12476, 'Training accuracy:', 0.8671875)\n",
      "('Step:', 12400, 'Training Loss:', 612.94604, 'Training accuracy:', 0.8828125)\n",
      "('Step:', 12500, 'Training Loss:', 409.15897, 'Training accuracy:', 0.890625)\n",
      "('Step:', 12600, 'Training Loss:', 343.72491, 'Training accuracy:', 0.90625)\n",
      "('Step:', 12700, 'Training Loss:', 342.45264, 'Training accuracy:', 0.8984375)\n",
      "('Step:', 12800, 'Training Loss:', 455.87341, 'Training accuracy:', 0.90625)\n",
      "('Step:', 12900, 'Training Loss:', 206.14117, 'Training accuracy:', 0.921875)\n",
      "('Step:', 13000, 'Training Loss:', 341.30124, 'Training accuracy:', 0.84375)\n",
      "('Step:', 13100, 'Training Loss:', 320.22391, 'Training accuracy:', 0.875)\n",
      "('Step:', 13200, 'Training Loss:', 200.85245, 'Training accuracy:', 0.890625)\n",
      "('Step:', 13300, 'Training Loss:', 83.580948, 'Training accuracy:', 0.9453125)\n",
      "('Step:', 13400, 'Training Loss:', 153.33263, 'Training accuracy:', 0.8984375)\n",
      "('Step:', 13500, 'Training Loss:', 93.365921, 'Training accuracy:', 0.8984375)\n",
      "('Step:', 13600, 'Training Loss:', 323.9989, 'Training accuracy:', 0.8125)\n",
      "('Step:', 13700, 'Training Loss:', 554.00684, 'Training accuracy:', 0.859375)\n",
      "('Step:', 13800, 'Training Loss:', 197.62218, 'Training accuracy:', 0.90625)\n",
      "('Step:', 13900, 'Training Loss:', 396.71161, 'Training accuracy:', 0.84375)\n",
      "('Step:', 14000, 'Training Loss:', 298.397, 'Training accuracy:', 0.8359375)\n",
      "('Step:', 14100, 'Training Loss:', 115.46303, 'Training accuracy:', 0.8984375)\n",
      "('Step:', 14200, 'Training Loss:', 299.14749, 'Training accuracy:', 0.8515625)\n",
      "('Step:', 14300, 'Training Loss:', 184.6713, 'Training accuracy:', 0.8046875)\n",
      "('Step:', 14400, 'Training Loss:', 73.303574, 'Training accuracy:', 0.890625)\n",
      "('Step:', 14500, 'Training Loss:', 104.15633, 'Training accuracy:', 0.8671875)\n",
      "('Step:', 14600, 'Training Loss:', 30.599022, 'Training accuracy:', 0.9375)\n",
      "('Step:', 14700, 'Training Loss:', 99.06382, 'Training accuracy:', 0.8671875)\n",
      "('Step:', 14800, 'Training Loss:', 140.63994, 'Training accuracy:', 0.796875)\n",
      "('Step:', 14900, 'Training Loss:', 48.896927, 'Training accuracy:', 0.921875)\n",
      "('Step:', 15000, 'Training Loss:', 105.48997, 'Training accuracy:', 0.8828125)\n",
      "('Step:', 15100, 'Training Loss:', 50.797264, 'Training accuracy:', 0.9140625)\n",
      "('Step:', 15200, 'Training Loss:', 99.589439, 'Training accuracy:', 0.859375)\n",
      "('Step:', 15300, 'Training Loss:', 115.93932, 'Training accuracy:', 0.8671875)\n",
      "('Step:', 15400, 'Training Loss:', 166.97021, 'Training accuracy:', 0.8828125)\n",
      "('Step:', 15500, 'Training Loss:', 203.46539, 'Training accuracy:', 0.8671875)\n",
      "('Step:', 15600, 'Training Loss:', 329.40027, 'Training accuracy:', 0.828125)\n",
      "('Step:', 15700, 'Training Loss:', 536575.75, 'Training accuracy:', 0.78125)\n",
      "('Step:', 15800, 'Training Loss:', 135221.38, 'Training accuracy:', 0.796875)\n",
      "('Step:', 15900, 'Training Loss:', 22301.092, 'Training accuracy:', 0.90625)\n",
      "('Step:', 16000, 'Training Loss:', 38264.82, 'Training accuracy:', 0.8984375)\n",
      "('Step:', 16100, 'Training Loss:', 19612.656, 'Training accuracy:', 0.8984375)\n",
      "('Step:', 16200, 'Training Loss:', 21824.941, 'Training accuracy:', 0.8828125)\n",
      "('Step:', 16300, 'Training Loss:', 18076.289, 'Training accuracy:', 0.8515625)\n",
      "('Step:', 16400, 'Training Loss:', 13975.771, 'Training accuracy:', 0.8828125)\n",
      "('Step:', 16500, 'Training Loss:', 12145.293, 'Training accuracy:', 0.8828125)\n",
      "('Step:', 16600, 'Training Loss:', 3847.9624, 'Training accuracy:', 0.953125)\n",
      "('Step:', 16700, 'Training Loss:', 6036.8672, 'Training accuracy:', 0.8984375)\n",
      "('Step:', 16800, 'Training Loss:', 10611.838, 'Training accuracy:', 0.8828125)\n",
      "('Step:', 16900, 'Training Loss:', 13580.101, 'Training accuracy:', 0.859375)\n",
      "('Step:', 17000, 'Training Loss:', 9237.0781, 'Training accuracy:', 0.859375)\n",
      "('Step:', 17100, 'Training Loss:', 9454.0938, 'Training accuracy:', 0.921875)\n",
      "('Step:', 17200, 'Training Loss:', 5803.5278, 'Training accuracy:', 0.859375)\n",
      "('Step:', 17300, 'Training Loss:', 4653.4648, 'Training accuracy:', 0.921875)\n",
      "('Step:', 17400, 'Training Loss:', 5934.5, 'Training accuracy:', 0.875)\n",
      "('Step:', 17500, 'Training Loss:', 5045.665, 'Training accuracy:', 0.890625)\n",
      "('Step:', 17600, 'Training Loss:', 2028.4077, 'Training accuracy:', 0.8984375)\n",
      "('Step:', 17700, 'Training Loss:', 147.86035, 'Training accuracy:', 0.984375)\n",
      "('Step:', 17800, 'Training Loss:', 5657.001, 'Training accuracy:', 0.859375)\n",
      "('Step:', 17900, 'Training Loss:', 2200.4395, 'Training accuracy:', 0.8828125)\n",
      "('Step:', 18000, 'Training Loss:', 3407.189, 'Training accuracy:', 0.9140625)\n",
      "('Step:', 18100, 'Training Loss:', 4447.8447, 'Training accuracy:', 0.84375)\n",
      "('Step:', 18200, 'Training Loss:', 2059.105, 'Training accuracy:', 0.90625)\n",
      "('Step:', 18300, 'Training Loss:', 1942.9716, 'Training accuracy:', 0.890625)\n",
      "('Step:', 18400, 'Training Loss:', 2948.5376, 'Training accuracy:', 0.875)\n",
      "('Step:', 18500, 'Training Loss:', 1070.1228, 'Training accuracy:', 0.90625)\n",
      "('Step:', 18600, 'Training Loss:', 1756.704, 'Training accuracy:', 0.8984375)\n",
      "('Step:', 18700, 'Training Loss:', 2167.0857, 'Training accuracy:', 0.90625)\n",
      "('Step:', 18800, 'Training Loss:', 1059.821, 'Training accuracy:', 0.8984375)\n",
      "('Step:', 18900, 'Training Loss:', 746.27075, 'Training accuracy:', 0.90625)\n",
      "('Step:', 19000, 'Training Loss:', 3565.1724, 'Training accuracy:', 0.828125)\n",
      "('Step:', 19100, 'Training Loss:', 1959.4585, 'Training accuracy:', 0.8828125)\n",
      "('Step:', 19200, 'Training Loss:', 2558.157, 'Training accuracy:', 0.84375)\n",
      "('Step:', 19300, 'Training Loss:', 803.01855, 'Training accuracy:', 0.921875)\n",
      "('Step:', 19400, 'Training Loss:', 2034.6121, 'Training accuracy:', 0.84375)\n",
      "('Step:', 19500, 'Training Loss:', 1192.9302, 'Training accuracy:', 0.8984375)\n",
      "('Step:', 19600, 'Training Loss:', 1790.9147, 'Training accuracy:', 0.875)\n",
      "('Step:', 19700, 'Training Loss:', 2916.2312, 'Training accuracy:', 0.8125)\n",
      "('Step:', 19800, 'Training Loss:', 2534.5698, 'Training accuracy:', 0.84375)\n",
      "('Step:', 19900, 'Training Loss:', 2443.1851, 'Training accuracy:', 0.890625)\n",
      "('Testing Accuracy:', 0.8527)\n"
     ]
    }
   ],
   "source": [
    "with tf.Session() as session:\n",
    "    \n",
    "    #run initializer to initiate variables\n",
    "    session.run(initiated_variables)\n",
    "    \n",
    "    for epoch in range(no_of_epochs):\n",
    "        batch_x, batch_y = mnist_data.train.next_batch(batch_size)\n",
    "        #run optimizer to minimize loss\n",
    "        session.run(training_output, feed_dict={x: batch_x, y: batch_y})\n",
    "        \n",
    "        if epoch % 100 == 0 or epoch == 1:\n",
    "            # Calculate batch loss and accuracy\n",
    "            cum_loss, cum_acc = session.run([loss, accuracy], feed_dict={x: batch_x, y: batch_y})\n",
    "            accuracy_list.append(cum_acc)\n",
    "            print(\"Step:\",epoch,\"Training Loss:\", cum_loss, \"Training accuracy:\", cum_acc)\n",
    "    \n",
    "    print(\"Testing Accuracy:\", session.run(accuracy, feed_dict={x: mnist_data.test.images, y: mnist_data.test.labels}))"
   ]
  },
  {
   "cell_type": "code",
   "execution_count": 61,
   "metadata": {
    "collapsed": false
   },
   "outputs": [
    {
     "data": {
      "image/png": "[encoded data removed]",
      "text/plain": [
       "<matplotlib.figure.Figure at 0x7f0811fe91d0>"
      ]
     },
     "metadata": {},
     "output_type": "display_data"
    }
   ],
   "source": [
    "plt.plot(accuracy_list)\n",
    "plt.show()"
   ]
  },
  {
   "cell_type": "code",
   "execution_count": 66,
   "metadata": {
    "collapsed": true
   },
   "outputs": [],
   "source": [
    "moving_average_list = []\n",
    "for i in range(5):\n",
    "    moving_average_list.append(sum(accuracy_list[i*40:(i+1)*40])/40.0)\n"
   ]
  },
  {
   "cell_type": "code",
   "execution_count": 67,
   "metadata": {
    "collapsed": false
   },
   "outputs": [
    {
     "data": {
      "image/png": "[encoded data removed]",
      "text/plain": [
       "<matplotlib.figure.Figure at 0x7f0809ace1d0>"
      ]
     },
     "metadata": {},
     "output_type": "display_data"
    }
   ],
   "source": [
    "plt.plot(moving_average_list)\n",
    "plt.show()"
   ]
  },
  {
   "cell_type": "code",
   "execution_count": null,
   "metadata": {
    "collapsed": true
   },
   "outputs": [],
   "source": []
  }
 ],
 "metadata": {
  "kernelspec": {
   "display_name": "Python 2",
   "language": "python",
   "name": "python2"
  },
  "language_info": {
   "codemirror_mode": {
    "name": "ipython",
    "version": 2
   },
   "file_extension": ".py",
   "mimetype": "text/x-python",
   "name": "python",
   "nbconvert_exporter": "python",
   "pygments_lexer": "ipython2",
   "version": "2.7.13"
  }
 },
 "nbformat": 4,
 "nbformat_minor": 2
}
