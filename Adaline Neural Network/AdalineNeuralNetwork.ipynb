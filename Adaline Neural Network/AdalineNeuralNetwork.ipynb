{
 "cells": [
  {
   "cell_type": "markdown",
   "metadata": {},
   "source": [
    "# Name: Niranjan Ketkar"
   ]
  },
  {
   "cell_type": "code",
   "execution_count": 1,
   "metadata": {
    "collapsed": true
   },
   "outputs": [],
   "source": [
    "import numpy as np\n",
    "import matplotlib.pyplot as plt\n",
    "from mpl_toolkits.mplot3d import Axes3D"
   ]
  },
  {
   "cell_type": "code",
   "execution_count": 2,
   "metadata": {
    "collapsed": true
   },
   "outputs": [],
   "source": [
    "def calc_Y(x, w, b):\n",
    "    #y = x.w + b\n",
    "    return x.dot(w) + b"
   ]
  },
  {
   "cell_type": "code",
   "execution_count": 3,
   "metadata": {
    "collapsed": true
   },
   "outputs": [],
   "source": [
    "def calc_error(y, t):\n",
    "    #print y, t\n",
    "    return np.sum((y-t)**2)"
   ]
  },
  {
   "cell_type": "code",
   "execution_count": 4,
   "metadata": {
    "collapsed": true
   },
   "outputs": [],
   "source": [
    "def try_different_alpha(w_start, b_start, training_x, training_y, num_of_iterations = 10000):\n",
    "    alpha_start = 10**-8\n",
    "    error_arr = []\n",
    "    alpha_values = []\n",
    "    alpha_arr = []\n",
    "    iteration_arr = []\n",
    "    iteration_arr_alpha = []\n",
    "    error_arr_alpha = []\n",
    "    #generate different values of alpha in range of alpha_start and alpha_end\n",
    "    #which are pseudo-uniformly distributed\n",
    "    for i in range(6):\n",
    "        alpha_start*=10\n",
    "        for j in range(10):\n",
    "            alpha_values.append(alpha_start + alpha_start*j)\n",
    "        \n",
    "    #print alpha_values, len(alpha_values)\n",
    "\n",
    "    for alpha in alpha_values:\n",
    "        print \"trying for alpha value of:\", alpha\n",
    "        error = 10**10\n",
    "        w = w_start\n",
    "        b = b_start\n",
    "        for iteration in range(num_of_iterations):\n",
    "            mse_error = 0.0\n",
    "            for i, training in enumerate(training_x):\n",
    "                training = np.expand_dims(training, axis = 0)\n",
    "                y_pred = calc_Y(training, w, b)\n",
    "                \n",
    "                #Lets calculate error\n",
    "                t = np.expand_dims(training_y[i], axis = 0)\n",
    "                error = calc_error(y_pred, t)\n",
    "                mse_error+=error\n",
    "                \n",
    "                #Lets update w and b based on error\n",
    "                w = w - 2*alpha*training.T.dot(y_pred - t)\n",
    "                b = b - 2*alpha*(y_pred - t)\n",
    "\n",
    "            #if iteration%1000==0:\n",
    "            #    print w, b, error\n",
    "            #plotting graph for all values of iteration will take lot of memory\n",
    "            #so we will save values after every few iterations\n",
    "            if alpha == 0.01 and iteration%10 == 0:\n",
    "                error_arr_alpha.append(mse_error/len(training_x))\n",
    "                iteration_arr_alpha.append(iteration)\n",
    "            if iteration%100 == 0:\n",
    "                error_arr.append(mse_error/len(training_x))\n",
    "                alpha_arr.append(alpha)\n",
    "                iteration_arr.append(iteration)\n",
    "    \n",
    "    return iteration_arr, alpha_arr, error_arr, error_arr_alpha, iteration_arr_alpha"
   ]
  },
  {
   "cell_type": "code",
   "execution_count": 5,
   "metadata": {
    "collapsed": true
   },
   "outputs": [],
   "source": [
    "#11x3 matricx where w is 1x3\n",
    "training_x = np.array([[1, 1, -1], [1, 2, -1], [2, -1, 1], [2, 0, 1], [1, -2, 1], [0, 0, 1], \\\n",
    "    [-1, 2, 1], [-2, 1, 1], [-1, -1, -1], [-2, -2, -1], [-2, -1, -1]])\n",
    "#11x2 matrix where each output Yi = 1x2\n",
    "training_y = np.array([[-1, -1], [-1, -1], [-1, 1], [-1, 1], [-1, 1], [-1, 1], [1, -1],\\\n",
    "     [1, -1], [1, 1], [1, 1], [1, 1]])\n",
    "#print training_x, training_y\n",
    "#Now w is 3x2 matrix and weight is initially zero\n",
    "w = np.zeros((training_x.shape[1], training_y.shape[1]))\n",
    "#print w\n",
    "#bias is intially zero too\n",
    "b = np.zeros(training_y.shape[1])"
   ]
  },
  {
   "cell_type": "code",
   "execution_count": 6,
   "metadata": {
    "collapsed": false
   },
   "outputs": [
    {
     "name": "stdout",
     "output_type": "stream",
     "text": [
      "trying for alpha value of: 1e-07\n",
      "trying for alpha value of: 2e-07\n",
      "trying for alpha value of: 3e-07\n",
      "trying for alpha value of: 4e-07\n",
      "trying for alpha value of: 5e-07\n",
      "trying for alpha value of: 6e-07\n",
      "trying for alpha value of: 7e-07\n",
      "trying for alpha value of: 8e-07\n",
      "trying for alpha value of: 9e-07\n",
      "trying for alpha value of: 1e-06\n",
      "trying for alpha value of: 1e-06\n",
      "trying for alpha value of: 2e-06\n",
      "trying for alpha value of: 3e-06\n",
      "trying for alpha value of: 4e-06\n",
      "trying for alpha value of: 5e-06\n",
      "trying for alpha value of: 6e-06\n",
      "trying for alpha value of: 7e-06\n",
      "trying for alpha value of: 8e-06\n",
      "trying for alpha value of: 9e-06\n",
      "trying for alpha value of: 1e-05\n",
      "trying for alpha value of: 1e-05\n",
      "trying for alpha value of: 2e-05\n",
      "trying for alpha value of: 3e-05\n",
      "trying for alpha value of: 4e-05\n",
      "trying for alpha value of: 5e-05\n",
      "trying for alpha value of: 6e-05\n",
      "trying for alpha value of: 7e-05\n",
      "trying for alpha value of: 8e-05\n",
      "trying for alpha value of: 9e-05\n",
      "trying for alpha value of: 0.0001\n",
      "trying for alpha value of: 0.0001\n",
      "trying for alpha value of: 0.0002\n",
      "trying for alpha value of: 0.0003\n",
      "trying for alpha value of: 0.0004\n",
      "trying for alpha value of: 0.0005\n",
      "trying for alpha value of: 0.0006\n",
      "trying for alpha value of: 0.0007\n",
      "trying for alpha value of: 0.0008\n",
      "trying for alpha value of: 0.0009\n",
      "trying for alpha value of: 0.001\n",
      "trying for alpha value of: 0.001\n",
      "trying for alpha value of: 0.002\n",
      "trying for alpha value of: 0.003\n",
      "trying for alpha value of: 0.004\n",
      "trying for alpha value of: 0.005\n",
      "trying for alpha value of: 0.006\n",
      "trying for alpha value of: 0.007\n",
      "trying for alpha value of: 0.008\n",
      "trying for alpha value of: 0.009\n",
      "trying for alpha value of: 0.01\n",
      "trying for alpha value of: 0.01\n",
      "trying for alpha value of: 0.02\n",
      "trying for alpha value of: 0.03\n",
      "trying for alpha value of: 0.04\n",
      "trying for alpha value of: 0.05\n",
      "trying for alpha value of: 0.06\n",
      "trying for alpha value of: 0.07\n",
      "trying for alpha value of: 0.08\n",
      "trying for alpha value of: 0.09\n",
      "trying for alpha value of: 0.1\n"
     ]
    }
   ],
   "source": [
    "\"\"\"\n",
    "we are calling the following function to try different values of alpha and then\n",
    "plotting the graph of alpha vs error, we are taking \n",
    "\"\"\"\n",
    "iteration_arr, alpha_arr, error_arr,error_arr_alpha, iteration_arr_alpha = try_different_alpha(w, b, training_x, training_y, 10000)"
   ]
  },
  {
   "cell_type": "code",
   "execution_count": 7,
   "metadata": {
    "collapsed": false
   },
   "outputs": [
    {
     "name": "stdout",
     "output_type": "stream",
     "text": [
      "Error reduced to: 1.02827059581\n",
      "Error reduced to: 0.354690805912\n",
      "Error reduced to: 0.352466514307\n",
      "Error reduced to: 0.352696835757\n",
      "Error reduced to: 0.355701957817\n",
      "Error reduced to: 0.387934733857\n"
     ]
    },
    {
     "data": {
      "image/png": "[encoded data removed]",
      "text/plain": [
       "<matplotlib.figure.Figure at 0x7f94b9582c50>"
      ]
     },
     "metadata": {},
     "output_type": "display_data"
    }
   ],
   "source": [
    "#Lets plot the graph for all errors for respective alphas\n",
    "#plotting in single graph will be horrible, so we are \n",
    "#plotting different ranges of alpha in different subplots\n",
    "\n",
    "fig = plt.figure()\n",
    "#plot for very small values of alpha\n",
    "ax = fig.add_subplot(231, projection='3d')\n",
    "ax.plot(np.array(iteration_arr)[:1000], np.log10(np.array(alpha_arr))[:1000],np.array(error_arr)[:1000], color = 'black')\n",
    "print \"Error reduced to:\",min(error_arr[:1000])\n",
    "\n",
    "ax = fig.add_subplot(232, projection='3d')\n",
    "ax.plot(np.array(iteration_arr)[1000:2000], np.log10(np.array(alpha_arr))[1000:2000],np.array(error_arr)[1000:2000], color = 'black')\n",
    "print \"Error reduced to:\",min(error_arr[1000:2000])\n",
    "\n",
    "ax = fig.add_subplot(233, projection='3d')\n",
    "ax.plot(np.array(iteration_arr)[2000:3000], np.log10(np.array(alpha_arr))[2000:3000],np.array(error_arr)[2000:3000], color = 'black')\n",
    "print \"Error reduced to:\",min(error_arr[2000:3000])\n",
    "\n",
    "#optimal values of alpha\n",
    "ax = fig.add_subplot(234, projection='3d')\n",
    "ax.plot(np.array(iteration_arr)[3000:4000], np.log10(np.array(alpha_arr))[3000:4000],np.array(error_arr)[3000:4000], color = 'black')\n",
    "print \"Error reduced to:\",min(error_arr[3000:4000])\n",
    "\n",
    "ax = fig.add_subplot(235, projection='3d')\n",
    "ax.plot(np.array(iteration_arr)[4000:5000], np.log10(np.array(alpha_arr))[4000:5000],np.array(error_arr)[4000:5000], color = 'black')\n",
    "print \"Error reduced to:\", min(error_arr[4000:5000])\n",
    "\n",
    "#large values of alpha\n",
    "ax = fig.add_subplot(236, projection='3d')\n",
    "ax.plot(np.array(iteration_arr)[5000:6000], np.log10(np.array(alpha_arr))[5000:6000],np.array(error_arr)[5000:6000], color = 'black')\n",
    "print \"Error reduced to:\",min(error_arr[5000:6000])\n",
    "plt.show()"
   ]
  },
  {
   "cell_type": "markdown",
   "metadata": {},
   "source": [
    "\n",
    "Graph Explanation:\n",
    "X axis: 0 to 10k ... no of iterations\n",
    "Y axis: 10e-7 to 10e-1 ...different values of alpha in log scale\n",
    "Z axis: mse\n",
    "\n",
    "It is clear from the graph that for small values of alpha error has not reduced to its fullest\n",
    "For values of alpha in range of 0.00001 to 0.001, it is giving very good results.\n",
    "For those values error has decreased upto range of 0.35"
   ]
  },
  {
   "cell_type": "code",
   "execution_count": 9,
   "metadata": {
    "collapsed": false
   },
   "outputs": [
    {
     "name": "stdout",
     "output_type": "stream",
     "text": [
      "mse error is: 1.12294908849\n",
      "mse error is: 1.10953044821\n",
      "mse error is: 1.10953044821\n",
      "mse error is: 1.10953044821\n",
      "mse error is: 1.10953044821\n",
      "mse error is: 1.10953044821\n",
      "mse error is: 1.10953044821\n",
      "mse error is: 1.10953044821\n",
      "mse error is: 1.10953044821\n",
      "mse error is: 1.10953044821\n",
      "mse error is: 1.10953044821\n",
      "mse error is: 1.10953044821\n",
      "mse error is: 1.10953044821\n",
      "mse error is: 1.10953044821\n",
      "mse error is: 1.10953044821\n",
      "mse error is: 1.10953044821\n",
      "mse error is: 1.10953044821\n",
      "mse error is: 1.10953044821\n",
      "mse error is: 1.10953044821\n",
      "mse error is: 1.10953044821\n",
      "mse error is: 1.10953044821\n",
      "mse error is: 1.10953044821\n",
      "mse error is: 1.10953044821\n",
      "mse error is: 1.10953044821\n",
      "mse error is: 1.10953044821\n",
      "mse error is: 1.10953044821\n",
      "mse error is: 1.10953044821\n",
      "mse error is: 1.10953044821\n",
      "mse error is: 1.10953044821\n",
      "mse error is: 1.10953044821\n",
      "mse error is: 1.10953044821\n",
      "mse error is: 1.10953044821\n",
      "mse error is: 1.10953044821\n",
      "mse error is: 1.10953044821\n",
      "mse error is: 1.10953044821\n",
      "mse error is: 1.10953044821\n",
      "mse error is: 1.10953044821\n",
      "mse error is: 1.10953044821\n",
      "mse error is: 1.10953044821\n",
      "mse error is: 1.10953044821\n",
      "mse error is: 1.10953044821\n",
      "mse error is: 1.10953044821\n",
      "mse error is: 1.10953044821\n",
      "mse error is: 1.10953044821\n",
      "mse error is: 1.10953044821\n",
      "mse error is: 1.10953044821\n",
      "mse error is: 1.10953044821\n",
      "mse error is: 1.10953044821\n",
      "mse error is: 1.10953044821\n",
      "mse error is: 1.10953044821\n",
      "mse error is: 1.10953044821\n",
      "mse error is: 1.10953044821\n",
      "mse error is: 1.10953044821\n",
      "mse error is: 1.10953044821\n",
      "mse error is: 1.10953044821\n",
      "mse error is: 1.10953044821\n",
      "mse error is: 1.10953044821\n",
      "mse error is: 1.10953044821\n",
      "mse error is: 1.10953044821\n",
      "mse error is: 1.10953044821\n",
      "mse error is: 1.10953044821\n",
      "mse error is: 1.10953044821\n",
      "mse error is: 1.10953044821\n",
      "mse error is: 1.10953044821\n",
      "mse error is: 1.10953044821\n",
      "mse error is: 1.10953044821\n",
      "mse error is: 1.10953044821\n",
      "mse error is: 1.10953044821\n",
      "mse error is: 1.10953044821\n",
      "mse error is: 1.10953044821\n",
      "mse error is: 1.10953044821\n",
      "mse error is: 1.10953044821\n",
      "mse error is: 1.10953044821\n",
      "mse error is: 1.10953044821\n",
      "mse error is: 1.10953044821\n",
      "mse error is: 1.10953044821\n",
      "mse error is: 1.10953044821\n",
      "mse error is: 1.10953044821\n",
      "mse error is: 1.10953044821\n",
      "mse error is: 1.10953044821\n",
      "mse error is: 1.10953044821\n",
      "mse error is: 1.10953044821\n",
      "mse error is: 1.10953044821\n",
      "mse error is: 1.10953044821\n",
      "mse error is: 1.10953044821\n",
      "mse error is: 1.10953044821\n",
      "mse error is: 1.10953044821\n",
      "mse error is: 1.10953044821\n",
      "mse error is: 1.10953044821\n",
      "mse error is: 1.10953044821\n",
      "mse error is: 1.10953044821\n",
      "mse error is: 1.10953044821\n",
      "mse error is: 1.10953044821\n",
      "mse error is: 1.10953044821\n",
      "mse error is: 1.10953044821\n",
      "mse error is: 1.10953044821\n",
      "mse error is: 1.10953044821\n",
      "mse error is: 1.10953044821\n",
      "mse error is: 1.10953044821\n",
      "mse error is: 1.10953044821\n"
     ]
    },
    {
     "data": {
      "image/png": "[encoded data removed]",
      "text/plain": [
       "<matplotlib.figure.Figure at 0x7f94b926ed50>"
      ]
     },
     "metadata": {},
     "output_type": "display_data"
    }
   ],
   "source": [
    "#Now lets try gradually decreasing the value of alpha\n",
    "#we will first try without reducing alpha and then compare it with\n",
    "#our technique\n",
    "\n",
    "#since we are gonna decrease the value, we will start with little bit larger\n",
    "#value of alpha = 0.1\n",
    "\n",
    "\n",
    "alpha = 0.1\n",
    "w = np.zeros((training_x.shape[1], training_y.shape[1]))\n",
    "b = np.zeros(training_y.shape[1])\n",
    "mse_arr = []\n",
    "error_arr = []\n",
    "error = 10**10\n",
    "for iteration in range(10000):\n",
    "    mse_error = 0.0\n",
    "    for i, training in enumerate(training_x):\n",
    "        training = np.expand_dims(training, axis = 0)\n",
    "        y_pred = calc_Y(training, w, b)\n",
    "\n",
    "        #Lets calculate error\n",
    "        t = np.expand_dims(training_y[i], axis = 0)\n",
    "        error = calc_error(y_pred, t)\n",
    "        mse_error += error\n",
    "        #Lets update w and b based on error\n",
    "        w = w - 2*alpha*training.T.dot(y_pred - t)\n",
    "        b = b - 2*alpha*(y_pred - t)\n",
    "    error_arr.append(error)\n",
    "    mse_arr.append(mse_error/len(training_x))\n",
    "    if iteration%100 == 0:\n",
    "        print \"mse error is:\", mse_error/len(training_x)\n",
    "divide_alpha_fig1 = plt.figure()\n",
    "sb_divide = divide_alpha_fig1.add_subplot(111)\n",
    "sb_divide.plot(range(10000), error_arr)\n",
    "plt.show()"
   ]
  },
  {
   "cell_type": "code",
   "execution_count": 11,
   "metadata": {
    "collapsed": false,
    "scrolled": false
   },
   "outputs": [
    {
     "name": "stdout",
     "output_type": "stream",
     "text": [
      "mse error is: 1.12294908849\n",
      "mse error is: 0.975824612026\n",
      "mse error is: 0.876520763071\n",
      "mse error is: 0.798808514897\n",
      "mse error is: 0.735840277371\n",
      "mse error is: 0.683773209823\n",
      "mse error is: 0.640200615135\n",
      "mse error is: 0.603442772187\n",
      "mse error is: 0.572238116202\n",
      "mse error is: 0.545600840656\n",
      "mse error is: 0.522745553651\n",
      "mse error is: 0.503040326091\n",
      "mse error is: 0.485973550926\n",
      "mse error is: 0.471128915891\n",
      "mse error is: 0.458165952836\n",
      "mse error is: 0.446804767989\n",
      "mse error is: 0.436814017702\n",
      "mse error is: 0.42800142781\n",
      "mse error is: 0.420206307522\n",
      "mse error is: 0.413293624749\n",
      "mse error is: 0.407149302474\n",
      "mse error is: 0.401676470084\n",
      "mse error is: 0.39679246261\n",
      "mse error is: 0.392426407135\n",
      "mse error is: 0.388517271702\n",
      "mse error is: 0.385012279942\n",
      "mse error is: 0.381865616137\n",
      "mse error is: 0.379037362003\n",
      "mse error is: 0.376492619229\n",
      "mse error is: 0.374200781656\n",
      "mse error is: 0.372134928573\n",
      "mse error is: 0.370271316526\n",
      "mse error is: 0.368588951619\n",
      "mse error is: 0.367069227891\n",
      "mse error is: 0.365695620217\n",
      "mse error is: 0.364453422406\n",
      "mse error is: 0.36332952298\n",
      "mse error is: 0.362312212505\n",
      "mse error is: 0.361391017468\n",
      "mse error is: 0.360556556573\n",
      "mse error is: 0.359800416003\n",
      "mse error is: 0.35911504079\n",
      "mse error is: 0.358493639903\n",
      "mse error is: 0.357930103042\n",
      "mse error is: 0.357418927493\n",
      "mse error is: 0.356955153642\n",
      "mse error is: 0.356534307998\n",
      "mse error is: 0.356152352755\n",
      "mse error is: 0.355805641038\n",
      "mse error is: 0.355490877143\n",
      "mse error is: 0.355205081143\n",
      "mse error is: 0.35494555733\n",
      "mse error is: 0.354709866036\n",
      "mse error is: 0.354495798421\n",
      "mse error is: 0.354301353907\n",
      "mse error is: 0.354124719925\n",
      "mse error is: 0.353964253749\n",
      "mse error is: 0.35381846616\n",
      "mse error is: 0.353686006754\n",
      "mse error is: 0.353565650716\n",
      "mse error is: 0.353456286903\n",
      "mse error is: 0.353356907099\n",
      "mse error is: 0.353266596319\n",
      "mse error is: 0.353184524052\n",
      "mse error is: 0.353109936356\n",
      "mse error is: 0.353042148706\n",
      "mse error is: 0.35298053953\n",
      "mse error is: 0.352924544355\n",
      "mse error is: 0.352873650516\n",
      "mse error is: 0.352827392357\n",
      "mse error is: 0.352785346886\n",
      "mse error is: 0.352747129841\n",
      "mse error is: 0.352712392116\n",
      "mse error is: 0.352680816531\n",
      "mse error is: 0.352652114892\n",
      "mse error is: 0.352626025333\n",
      "mse error is: 0.352602309897\n",
      "mse error is: 0.352580752346\n",
      "mse error is: 0.352561156173\n",
      "mse error is: 0.352543342791\n",
      "mse error is: 0.352527149899\n",
      "mse error is: 0.352512429989\n",
      "mse error is: 0.352499048998\n",
      "mse error is: 0.352486885076\n",
      "mse error is: 0.352475827474\n",
      "mse error is: 0.352465775528\n",
      "mse error is: 0.352456637742\n",
      "mse error is: 0.352448330951\n",
      "mse error is: 0.352440779559\n",
      "mse error is: 0.352433914854\n",
      "mse error is: 0.352427674374\n",
      "mse error is: 0.352422001345\n",
      "mse error is: 0.352416844155\n",
      "mse error is: 0.352412155893\n",
      "mse error is: 0.352407893911\n",
      "mse error is: 0.352404019445\n",
      "mse error is: 0.352400497254\n",
      "mse error is: 0.352397295305\n",
      "mse error is: 0.352394384477\n",
      "mse error is: 0.3523917383\n"
     ]
    },
    {
     "data": {
      "image/png": "[encoded data removed]",
      "text/plain": [
       "<matplotlib.figure.Figure at 0x7f94b9327d90>"
      ]
     },
     "metadata": {},
     "output_type": "display_data"
    }
   ],
   "source": [
    "#Our first technique will be dividing alpha after every few iterations\n",
    "# we will divide alpha by 1.1 after every 100 iterations\n",
    "alpha = 0.1\n",
    "w = np.zeros((training_x.shape[1], training_y.shape[1]))\n",
    "b = np.zeros(training_y.shape[1])\n",
    "mse_arr = []\n",
    "error_arr = []\n",
    "error = 10**10\n",
    "for iteration in range(10000):\n",
    "    mse_error = 0.0\n",
    "    for i, training in enumerate(training_x):\n",
    "        training = np.expand_dims(training, axis = 0)\n",
    "        y_pred = calc_Y(training, w, b)\n",
    "        #Lets calculate error\n",
    "        t = np.expand_dims(training_y[i], axis = 0)\n",
    "        error = calc_error(y_pred, t)\n",
    "        mse_error += error\n",
    "        #Lets update w and b based on error\n",
    "        w = w - 2*alpha*training.T.dot(y_pred - t)\n",
    "        b = b - 2*alpha*(y_pred - t)\n",
    "    error_arr.append(error)\n",
    "    mse_arr.append(mse_error/len(training_x))\n",
    "    if iteration%100 == 0:\n",
    "        alpha/=1.1\n",
    "        print \"mse error is:\", mse_error/len(training_x)\n",
    "divide_alpha_fig1 = plt.figure()\n",
    "sb_divide = divide_alpha_fig1.add_subplot(111)\n",
    "sb_divide.plot(range(10000), error_arr)\n",
    "plt.show()"
   ]
  },
  {
   "cell_type": "markdown",
   "metadata": {},
   "source": [
    "First graph is just a vertical straight line and has a very high possibility of\n",
    "overshooting for values of alpha higher than 0.1\n",
    "\n",
    "Second Graph is similar to step stair case, and gradually error is brought in control\n",
    "Also in normal technique we were not able to reduce mse below 1.1 and in our step decay technique\n",
    "we were able to bring error upto 0.35 which is a great achievement!!!\n",
    "\n",
    "Similarly we can go for exponential decay, or decay based on value of derivative(AdaGrad)\n",
    "which will give better results than our technique and those are standard techniques\n",
    "used extensively."
   ]
  },
  {
   "cell_type": "code",
   "execution_count": 12,
   "metadata": {
    "collapsed": false
   },
   "outputs": [
    {
     "name": "stdout",
     "output_type": "stream",
     "text": [
      "actual and predicted outputs:\n",
      "[-1 -1] [-1. -1.]\n",
      "[-1 -1] [-1. -1.]\n",
      "[-1  1] [-1.  1.]\n",
      "[-1  1] [-1.  1.]\n",
      "[-1  1] [-1.  1.]\n",
      "[-1  1] [-1.  1.]\n",
      "[ 1 -1] [ 1. -1.]\n",
      "[ 1 -1] [ 1. -1.]\n",
      "[1 1] [ 1.  1.]\n",
      "[1 1] [ 1.  1.]\n",
      "[1 1] [ 1.  1.]\n"
     ]
    }
   ],
   "source": [
    "print \"actual and predicted outputs:\"\n",
    "for i, training in enumerate(training_x):\n",
    "    training = np.expand_dims(training, axis = 0)\n",
    "    y_pred = calc_Y(training, w, b)\n",
    "    y_pred = np.squeeze(y_pred)\n",
    "    #print y_pred\n",
    "    if y_pred[0] >=0:\n",
    "        y_pred[0] = 1\n",
    "    else:\n",
    "        y_pred[0] = -1\n",
    "    if y_pred[1] >=0:\n",
    "        y_pred[1] = 1\n",
    "    else:\n",
    "        y_pred[1] = -1\n",
    "\n",
    "    print training_y[i], y_pred"
   ]
  },
  {
   "cell_type": "markdown",
   "metadata": {},
   "source": [
    "Thus there is zero error after training with our method"
   ]
  },
  {
   "cell_type": "code",
   "execution_count": 13,
   "metadata": {
    "collapsed": false
   },
   "outputs": [
    {
     "name": "stdout",
     "output_type": "stream",
     "text": [
      "w is:\n",
      "[[-0.60963403  0.08004798]\n",
      " [ 0.0026213  -0.62077819]\n",
      " [ 0.01752054  0.09123183]]\n",
      "b is\n",
      "[[-0.14769915  0.2153289 ]]\n"
     ]
    }
   ],
   "source": [
    "print \"w is:\"\n",
    "print w\n",
    "print \"b is\"\n",
    "print b"
   ]
  },
  {
   "cell_type": "code",
   "execution_count": 14,
   "metadata": {
    "collapsed": false
   },
   "outputs": [
    {
     "data": {
      "text/plain": [
       "array([[ 1.09171075, -0.47431342]])"
      ]
     },
     "execution_count": 14,
     "metadata": {},
     "output_type": "execute_result"
    }
   ],
   "source": [
    "a = np.array([-2, 1, 1])\n",
    "np.dot(a, w) + b"
   ]
  },
  {
   "cell_type": "markdown",
   "metadata": {},
   "source": [
    "All the first values of training_x are having opposite sign of training_y's first value\n",
    "Even this is clear from first value of w which is -0.6\n",
    "\n",
    "So when we start increasing value of -2, while training we will not be able to converge easily, and it willl take more time to converge and reduce mse to lower values\n",
    "Lets check it out for value of -1 and +1"
   ]
  },
  {
   "cell_type": "code",
   "execution_count": 16,
   "metadata": {
    "collapsed": false,
    "scrolled": false
   },
   "outputs": [
    {
     "name": "stdout",
     "output_type": "stream",
     "text": [
      "mse error is: 1.10559875029\n",
      "mse error is: 0.682794891152\n",
      "mse error is: 0.529602945971\n",
      "mse error is: 0.458646750112\n",
      "mse error is: 0.421648439611\n",
      "mse error is: 0.400958214813\n",
      "mse error is: 0.388899707042\n",
      "mse error is: 0.381696369722\n",
      "mse error is: 0.377328752433\n",
      "mse error is: 0.374656287091\n",
      "mse error is: 0.373011830614\n",
      "mse error is: 0.371996411288\n",
      "mse error is: 0.371368056566\n",
      "mse error is: 0.370978708503\n",
      "mse error is: 0.370737262382\n",
      "mse error is: 0.370587461162\n",
      "mse error is: 0.370494491555\n",
      "mse error is: 0.370436782095\n",
      "mse error is: 0.370400955734\n",
      "mse error is: 0.370378712953\n"
     ]
    },
    {
     "data": {
      "image/png": "[encoded data removed]",
      "text/plain": [
       "<matplotlib.figure.Figure at 0x7f94b927b510>"
      ]
     },
     "metadata": {},
     "output_type": "display_data"
    }
   ],
   "source": [
    "training_x[7][0] = -1\n",
    "#Our first technique will be dividing alpha after every few iterations\n",
    "# we will divide alpha by 1.1 after every 100 iterations\n",
    "alpha = 0.1\n",
    "w = np.zeros((training_x.shape[1], training_y.shape[1]))\n",
    "b = np.zeros(training_y.shape[1])\n",
    "mse_arr = []\n",
    "error_arr = []\n",
    "error = 10**10\n",
    "for iteration in range(10000):\n",
    "    mse_error = 0.0\n",
    "    for i, training in enumerate(training_x):\n",
    "        training = np.expand_dims(training, axis = 0)\n",
    "        y_pred = calc_Y(training, w, b)\n",
    "        #Lets calculate error\n",
    "        t = np.expand_dims(training_y[i], axis = 0)\n",
    "        error = calc_error(y_pred, t)\n",
    "        mse_error += error\n",
    "        #Lets update w and b based on error\n",
    "        w = w - 2*alpha*training.T.dot(y_pred - t)\n",
    "        b = b - 2*alpha*(y_pred - t)\n",
    "    error_arr.append(error)\n",
    "    mse_arr.append(mse_error/len(training_x))\n",
    "    if iteration%100 == 0:\n",
    "        alpha/=1.1\n",
    "    if iteration%500 == 0:\n",
    "        print \"mse error is:\", mse_error/len(training_x)\n",
    "divide_alpha_fig1 = plt.figure()\n",
    "sb_divide = divide_alpha_fig1.add_subplot(111)\n",
    "sb_divide.plot(range(10000), error_arr)\n",
    "plt.show()"
   ]
  },
  {
   "cell_type": "code",
   "execution_count": 22,
   "metadata": {
    "collapsed": false
   },
   "outputs": [
    {
     "name": "stdout",
     "output_type": "stream",
     "text": [
      "mse error is: 1.55581878685\n",
      "mse error is: 1.02971568829\n",
      "mse error is: 0.80659224326\n",
      "mse error is: 0.702575128553\n",
      "mse error is: 0.648105704437\n",
      "mse error is: 0.617544210525\n",
      "mse error is: 0.599692774883\n",
      "mse error is: 0.589013664502\n",
      "mse error is: 0.582532704133\n",
      "mse error is: 0.578564860032\n",
      "mse error is: 0.576122441991\n",
      "mse error is: 0.574613971726\n",
      "mse error is: 0.573680401727\n",
      "mse error is: 0.573101899055\n",
      "mse error is: 0.572743142167\n",
      "mse error is: 0.572520554068\n",
      "mse error is: 0.572382410345\n",
      "mse error is: 0.572296659343\n",
      "mse error is: 0.57224342449\n",
      "mse error is: 0.572210373599\n"
     ]
    },
    {
     "data": {
      "image/png": "[encoded data removed]",
      "text/plain": [
       "<matplotlib.figure.Figure at 0x7f94b37286d0>"
      ]
     },
     "metadata": {},
     "output_type": "display_data"
    }
   ],
   "source": [
    "training_x[7][0] = 1\n",
    "\n",
    "#Our first technique will be dividing alpha after every few iterations\n",
    "# we will divide alpha by 1.1 after every 100 iterations\n",
    "alpha = 0.1\n",
    "w = np.zeros((training_x.shape[1], training_y.shape[1]))\n",
    "b = np.zeros(training_y.shape[1])\n",
    "mse_arr = []\n",
    "error_arr = []\n",
    "error = 10**10\n",
    "for iteration in range(10000):\n",
    "    mse_error = 0.0\n",
    "    for i, training in enumerate(training_x):\n",
    "        training = np.expand_dims(training, axis = 0)\n",
    "        y_pred = calc_Y(training, w, b)\n",
    "        #Lets calculate error\n",
    "        t = np.expand_dims(training_y[i], axis = 0)\n",
    "        error = calc_error(y_pred, t)\n",
    "        mse_error += error\n",
    "        #Lets update w and b based on error\n",
    "        w = w - 2*alpha*training.T.dot(y_pred - t)\n",
    "        b = b - 2*alpha*(y_pred - t)\n",
    "    error_arr.append(error)\n",
    "    mse_arr.append(mse_error/len(training_x))\n",
    "    if iteration%100 == 0:\n",
    "        alpha/=1.1\n",
    "    if iteration%500 == 0:\n",
    "        print \"mse error is:\", mse_error/len(training_x)\n",
    "divide_alpha_fig1 = plt.figure()\n",
    "sb_divide = divide_alpha_fig1.add_subplot(111)\n",
    "sb_divide.plot(range(10000), error_arr)\n",
    "plt.show()"
   ]
  },
  {
   "cell_type": "markdown",
   "metadata": {},
   "source": [
    "Thus after increasing value from -2 towards 1,\n",
    "In 10k iterations it is not converging to as lower value of 0.35 as before."
   ]
  },
  {
   "cell_type": "code",
   "execution_count": null,
   "metadata": {
    "collapsed": true
   },
   "outputs": [],
   "source": []
  }
 ],
 "metadata": {
  "kernelspec": {
   "display_name": "Python 2",
   "language": "python",
   "name": "python2"
  },
  "language_info": {
   "codemirror_mode": {
    "name": "ipython",
    "version": 2
   },
   "file_extension": ".py",
   "mimetype": "text/x-python",
   "name": "python",
   "nbconvert_exporter": "python",
   "pygments_lexer": "ipython2",
   "version": "2.7.15"
  }
 },
 "nbformat": 4,
 "nbformat_minor": 2
}
